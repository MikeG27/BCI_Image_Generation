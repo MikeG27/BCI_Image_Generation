{
 "cells": [
  {
   "cell_type": "markdown",
   "metadata": {},
   "source": [
    "# Test VAE Predictions"
   ]
  },
  {
   "cell_type": "code",
   "execution_count": null,
   "metadata": {},
   "outputs": [],
   "source": [
    "image_size = 30"
   ]
  },
  {
   "cell_type": "code",
   "execution_count": null,
   "metadata": {},
   "outputs": [],
   "source": [
    "plt.ioff()\n",
    "img = np.reshape(y_train[0], (image_size, image_size))\n",
    "plt.axis('off')\n",
    "plt.imshow(img, cmap = 'gray_r')\n",
    "plt.savefig('seven_original.png')"
   ]
  },
  {
   "cell_type": "code",
   "execution_count": null,
   "metadata": {},
   "outputs": [],
   "source": [
    "plt.imshow(img,cmap=plt.cm.binary)\n",
    "plt.show()"
   ]
  },
  {
   "cell_type": "code",
   "execution_count": null,
   "metadata": {},
   "outputs": [],
   "source": [
    "encoder_input = np.expand_dims(X_train[0], axis = 0)"
   ]
  },
  {
   "cell_type": "code",
   "execution_count": null,
   "metadata": {},
   "outputs": [],
   "source": [
    "encoder_input.shape, encoder.input_shape"
   ]
  },
  {
   "cell_type": "code",
   "execution_count": null,
   "metadata": {},
   "outputs": [],
   "source": [
    "mean, var, z = encoder.predict(encoder_input)"
   ]
  },
  {
   "cell_type": "code",
   "execution_count": null,
   "metadata": {},
   "outputs": [],
   "source": [
    "decoded_output = decoder.predict(mean)"
   ]
  },
  {
   "cell_type": "code",
   "execution_count": null,
   "metadata": {},
   "outputs": [],
   "source": [
    "plt.subplot(1,2,1)\n",
    "#plt.ioff()\n",
    "img = np.reshape(y_train[0], (image_size, image_size))\n",
    "#plt.axis('off')\n",
    "plt.imshow(img, cmap = 'gray_r')\n",
    "plt.savefig('seven_original.png')\n",
    "\n",
    "plt.subplot(1,2,2)\n",
    "#plt.ioff()\n",
    "img = np.reshape(y_test[0], (image_size, image_size))\n",
    "#plt.axis('off')\n",
    "plt.imshow(np.reshape(decoded_output, (image_size, image_size)), cmap = 'gray_r')\n",
    "plt.savefig('seven_reproduced.png')\n",
    "plt.show()"
   ]
  },
  {
   "cell_type": "code",
   "execution_count": null,
   "metadata": {},
   "outputs": [],
   "source": [
    "import cv2"
   ]
  },
  {
   "cell_type": "code",
   "execution_count": null,
   "metadata": {},
   "outputs": [],
   "source": [
    "#plt.ioff()\n",
    "plt.figure(figsize=(5, 20))\n",
    "for i in range(30):\n",
    "    plt.subplot(30, 2, 2*i+1)\n",
    "    img = np.reshape(y_test[i], (image_size, image_size))\n",
    "    _ = plt.axis('off')\n",
    "    _ = plt.imshow(img, cmap = 'gray_r')\n",
    "\n",
    "    _ = plt.subplot(30, 2, 2*i + 2)\n",
    "    encoder_input = np.expand_dims(X_test[i], axis = 0)\n",
    "    mean, var, z = encoder.predict(encoder_input)\n",
    "    decoded_output = decoder.predict(mean)\n",
    "    img = np.reshape(y_test[0], (image_size, image_size))\n",
    "    _ = plt.axis('off')\n",
    "    plt.imshow(np.reshape(decoded_output, (image_size, image_size)), cmap = 'gray_r')\n",
    "    plt.show()\n",
    "plt.savefig('mnist_reproduction.png')"
   ]
  },
  {
   "cell_type": "code",
   "execution_count": null,
   "metadata": {},
   "outputs": [],
   "source": [
    "# display a 30x30 2D manifold of digits\n",
    "n = 30\n",
    "digit_size = 30\n",
    "figure = np.zeros((digit_size * n, digit_size * n))\n",
    "# linearly spaced coordinates corresponding to the 2D plot\n",
    "# of digit classes in the latent space\n",
    "grid_x = np.linspace(-4, 4, n)\n",
    "grid_y = np.linspace(-4, 4, n)[::-1]\n",
    "\n",
    "\n",
    "for i, yi in enumerate(grid_y):\n",
    "    for j, xi in enumerate(grid_x):\n",
    "        z_sample = np.array([[xi, yi]])\n",
    "        x_decoded = decoder.predict(z_sample)\n",
    "        digit = x_decoded[0].reshape(digit_size, digit_size)\n",
    "        figure[i * digit_size: (i + 1) * digit_size,\n",
    "               j * digit_size: (j + 1) * digit_size] = digit\n",
    "\n",
    "plt.figure(figsize=(10, 10))\n",
    "start_range = digit_size // 2\n",
    "end_range = n * digit_size + start_range + 1\n",
    "pixel_range = np.arange(start_range, end_range, digit_size)\n",
    "sample_range_x = np.round(grid_x, 1)\n",
    "sample_range_y = np.round(grid_y, 1)\n",
    "plt.xticks(pixel_range, sample_range_x)\n",
    "plt.yticks(pixel_range, sample_range_y)\n",
    "plt.xlabel(\"z[0]\")\n",
    "plt.ylabel(\"z[1]\")\n",
    "plt.imshow(figure, cmap='gray_r')\n",
    "plt.show()"
   ]
  }
 ],
 "metadata": {
  "kernelspec": {
   "display_name": "(base_conda",
   "language": "python",
   "name": "base"
  },
  "language_info": {
   "codemirror_mode": {
    "name": "ipython",
    "version": 3
   },
   "file_extension": ".py",
   "mimetype": "text/x-python",
   "name": "python",
   "nbconvert_exporter": "python",
   "pygments_lexer": "ipython3",
   "version": "3.7.5"
  }
 },
 "nbformat": 4,
 "nbformat_minor": 2
}
