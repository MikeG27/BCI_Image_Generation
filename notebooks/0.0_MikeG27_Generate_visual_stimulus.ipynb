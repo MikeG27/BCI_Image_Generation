{
 "cells": [
  {
   "cell_type": "markdown",
   "metadata": {},
   "source": [
    "<h1 align = \"center\"> Generate image dataset </h1>"
   ]
  },
  {
   "cell_type": "markdown",
   "metadata": {},
   "source": [
    "The goal of this notebook is do demonstrate image dataset generation process. In this notebook we perform steps like : \n",
    "\n",
    "1. Get dataset from mnist \n",
    "2. Check mnist dataset\n",
    "3. Generate 300x300 images from 28x28 as visual stimulus\n",
    "4. Save data as .npy files in defined destination\n",
    "\n",
    "**PS : At this moment You need about 15GB RAM to generate Dataset!**"
   ]
  },
  {
   "cell_type": "markdown",
   "metadata": {},
   "source": [
    "## Import libraries"
   ]
  },
  {
   "cell_type": "code",
   "execution_count": 1,
   "metadata": {},
   "outputs": [
    {
     "name": "stderr",
     "output_type": "stream",
     "text": [
      "Using TensorFlow backend.\n"
     ]
    }
   ],
   "source": [
    "import os\n",
    "\n",
    "import cv2\n",
    "import numpy as np\n",
    "from keras.datasets import mnist\n",
    "from tqdm import tqdm\n",
    "import matplotlib.pyplot as plt\n",
    "\n",
    "import sys\n",
    "sys.path.append(\"..\")\n",
    "\n",
    "import config\n",
    "from src.data.make_dataset import generate_image_dataset\n",
    "from src.data.make_dataset import save_generated_array"
   ]
  },
  {
   "cell_type": "markdown",
   "metadata": {},
   "source": [
    "## Check docstrings"
   ]
  },
  {
   "cell_type": "code",
   "execution_count": 2,
   "metadata": {},
   "outputs": [
    {
     "name": "stdout",
     "output_type": "stream",
     "text": [
      "\n",
      "    Generate 300x300 gray images from mnist dataset and extract images to train/test folder\n",
      "    :param X: numpy images list\n",
      "    :param y: numpy class list\n",
      "    :param output_dir: output directory for generated images\n",
      "    :return:\n",
      "\n",
      "    \n"
     ]
    }
   ],
   "source": [
    "print(generate_image_dataset.__doc__)"
   ]
  },
  {
   "cell_type": "code",
   "execution_count": 3,
   "metadata": {},
   "outputs": [
    {
     "name": "stdout",
     "output_type": "stream",
     "text": [
      "\n",
      "    Save array to a binary file in numpy\n",
      "\n",
      "    :param array: image array\n",
      "    :param output_dir:  output directory\n",
      "    :param output_name : name of the file\n",
      "\n",
      "    \n"
     ]
    }
   ],
   "source": [
    "print(save_generated_array.__doc__)"
   ]
  },
  {
   "cell_type": "markdown",
   "metadata": {},
   "source": [
    "## Image overwiev"
   ]
  },
  {
   "cell_type": "code",
   "execution_count": 4,
   "metadata": {},
   "outputs": [],
   "source": [
    "(x_train, y_train), (x_test, y_test) = mnist.load_data()"
   ]
  },
  {
   "cell_type": "code",
   "execution_count": 5,
   "metadata": {},
   "outputs": [
    {
     "name": "stdout",
     "output_type": "stream",
     "text": [
      "[Image info]\n",
      "\n",
      "X_train shape : (60000, 28, 28)\n",
      "X_test shape : (10000, 28, 28)\n",
      "y_train shape : (60000,)\n",
      "y_test shape : (10000,)\n"
     ]
    }
   ],
   "source": [
    "print(\"[Image info]\\n\")\n",
    "print(f\"X_train shape : {x_train.shape}\")\n",
    "print(f\"X_test shape : {x_test.shape}\")\n",
    "print(f\"y_train shape : {y_train.shape}\")\n",
    "print(f\"y_test shape : {y_test.shape}\")"
   ]
  },
  {
   "cell_type": "code",
   "execution_count": 6,
   "metadata": {},
   "outputs": [
    {
     "data": {
      "text/plain": [
       "<matplotlib.image.AxesImage at 0x7ff5100f50f0>"
      ]
     },
     "execution_count": 6,
     "metadata": {},
     "output_type": "execute_result"
    },
    {
     "data": {
      "image/png": "[encoded data removed]",
      "text/plain": [
       "<Figure size 432x288 with 1 Axes>"
      ]
     },
     "metadata": {
      "needs_background": "light"
     },
     "output_type": "display_data"
    }
   ],
   "source": [
    "plt.title()\n",
    "plt.imshow(x_train[0],cmap=plt.cm.binary)"
   ]
  },
  {
   "cell_type": "markdown",
   "metadata": {},
   "source": [
    "# Image reshape"
   ]
  },
  {
   "cell_type": "code",
   "execution_count": 7,
   "metadata": {},
   "outputs": [
    {
     "name": "stderr",
     "output_type": "stream",
     "text": [
      "100%|██████████| 60000/60000 [00:05<00:00, 11763.73it/s]\n"
     ]
    }
   ],
   "source": [
    "x_train = generate_image_dataset(X=x_train,\n",
    "                                 width=300,\n",
    "                                 height=300)"
   ]
  },
  {
   "cell_type": "code",
   "execution_count": 8,
   "metadata": {},
   "outputs": [
    {
     "name": "stderr",
     "output_type": "stream",
     "text": [
      "100%|██████████| 10000/10000 [00:00<00:00, 19814.85it/s]\n"
     ]
    }
   ],
   "source": [
    "x_test = generate_image_dataset(X=x_test, \n",
    "                                width=300,\n",
    "                                height=300)"
   ]
  },
  {
   "cell_type": "code",
   "execution_count": 9,
   "metadata": {},
   "outputs": [
    {
     "name": "stdout",
     "output_type": "stream",
     "text": [
      "[Image info]\n",
      "\n",
      "X_train shape : (60000, 300, 300)\n",
      "X_test shape : (10000, 300, 300)\n",
      "y_train shape : (60000,)\n",
      "y_test shape : (10000,)\n"
     ]
    }
   ],
   "source": [
    "print(\"[Image info]\\n\")\n",
    "print(f\"X_train shape : {x_train.shape}\")\n",
    "print(f\"X_test shape : {x_test.shape}\")\n",
    "print(f\"y_train shape : {y_train.shape}\")\n",
    "print(f\"y_test shape : {y_test.shape}\")"
   ]
  },
  {
   "cell_type": "code",
   "execution_count": 10,
   "metadata": {},
   "outputs": [
    {
     "data": {
      "text/plain": [
       "<matplotlib.image.AxesImage at 0x7ff50f396630>"
      ]
     },
     "execution_count": 10,
     "metadata": {},
     "output_type": "execute_result"
    },
    {
     "data": {
      "image/png": "[encoded data removed]",
      "text/plain": [
       "<Figure size 432x288 with 1 Axes>"
      ]
     },
     "metadata": {
      "needs_background": "light"
     },
     "output_type": "display_data"
    }
   ],
   "source": [
    "plt.imshow(x_train[0],cmap=plt.cm.binary)"
   ]
  },
  {
   "cell_type": "markdown",
   "metadata": {},
   "source": [
    "# Save data "
   ]
  },
  {
   "cell_type": "code",
   "execution_count": 11,
   "metadata": {},
   "outputs": [
    {
     "name": "stdout",
     "output_type": "stream",
     "text": [
      "[X_train] numpy array was saved into /home/michal/Desktop/ML_Projects/eeg2image/data/preprocessed/IMG/train/X_train\n",
      "\n",
      "[y_train] numpy array was saved into /home/michal/Desktop/ML_Projects/eeg2image/data/preprocessed/IMG/train/y_train\n",
      "\n",
      "[X_test] numpy array was saved into /home/michal/Desktop/ML_Projects/eeg2image/data/preprocessed/IMG/test/X_test\n",
      "\n",
      "[y_test] numpy array was saved into /home/michal/Desktop/ML_Projects/eeg2image/data/preprocessed/IMG/test/y_test\n",
      "\n"
     ]
    }
   ],
   "source": [
    "save_generated_array(x_train, config.PREPROCESSED_IMG_TRAIN_DIR, \"X_train\")\n",
    "save_generated_array(y_train, config.PREPROCESSED_IMG_TRAIN_DIR, \"y_train\")\n",
    "save_generated_array(x_test, config.PREPROCESSED_IMG_TEST_DIR, \"X_test\")\n",
    "save_generated_array(y_test, config.PREPROCESSED_IMG_TEST_DIR, \"y_test\")"
   ]
  },
  {
   "cell_type": "code",
   "execution_count": 12,
   "metadata": {},
   "outputs": [
    {
     "name": "stdout",
     "output_type": "stream",
     "text": [
      "X_train disc usage 5.4 GB\n",
      "X_test disc usage 0.9 GB\n"
     ]
    }
   ],
   "source": [
    "milion = 1000000000\n",
    "\n",
    "print(f\"X_train disc usage {x_train.nbytes/milion} GB\")\n",
    "print(f\"X_test disc usage {x_test.nbytes/milion} GB\")"
   ]
  },
  {
   "cell_type": "code",
   "execution_count": null,
   "metadata": {},
   "outputs": [],
   "source": []
  }
 ],
 "metadata": {
  "kernelspec": {
   "display_name": "(base_conda",
   "language": "python",
   "name": "base"
  },
  "language_info": {
   "codemirror_mode": {
    "name": "ipython",
    "version": 3
   },
   "file_extension": ".py",
   "mimetype": "text/x-python",
   "name": "python",
   "nbconvert_exporter": "python",
   "pygments_lexer": "ipython3",
   "version": "3.7.3"
  }
 },
 "nbformat": 4,
 "nbformat_minor": 2
}
