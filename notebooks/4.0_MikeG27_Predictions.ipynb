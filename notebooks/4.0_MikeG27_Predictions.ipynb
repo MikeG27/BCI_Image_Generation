{
 "cells": [
  {
   "cell_type": "markdown",
   "metadata": {},
   "source": [
    "<h1 align = \"center\">Generate images from unseen EEG signal </h1>"
   ]
  },
  {
   "cell_type": "code",
   "execution_count": null,
   "metadata": {},
   "outputs": [],
   "source": [
    "eeg_test = cv2.resize(np.array(df_test),(x, y))"
   ]
  },
  {
   "cell_type": "code",
   "execution_count": null,
   "metadata": {},
   "outputs": [],
   "source": [
    "x_test=cv2.resize(np.array(eeg_test),(x, y))\n",
    "x_test=x_test.reshape(1,x,y,1)"
   ]
  },
  {
   "cell_type": "code",
   "execution_count": null,
   "metadata": {},
   "outputs": [],
   "source": [
    "filename = \"../models/VAE.hdf5\"\n",
    "model.load_weights(filename)\n",
    "model.compile(loss='mean_squared_error', optimizer=RMS_prop)\n",
    "\n",
    "x_test_encoded = model.predict(x_test, batch_size=1).reshape(280,280)"
   ]
  },
  {
   "cell_type": "code",
   "execution_count": null,
   "metadata": {},
   "outputs": [],
   "source": [
    "plt.figure(figsize=(15,15))\n",
    "\n",
    "plt.subplot(1,2,1)\n",
    "plt.gray()\n",
    "_ = plt.imshow(x_train_encoded)\n",
    "_ = plt.title(\"Train\")\n",
    "\n",
    "plt.subplot(1,2,2)\n",
    "_ = plt.title(\"Test\")\n",
    "_ = plt.imshow(x_test_encoded)"
   ]
  },
  {
   "cell_type": "markdown",
   "metadata": {},
   "source": [
    "# Quality indicators"
   ]
  },
  {
   "cell_type": "markdown",
   "metadata": {},
   "source": [
    "* MSE(Mean squared Error) -> (Perfect = 0)\n",
    "* SSIM(Structural similarity -> (Perfect = 1) "
   ]
  },
  {
   "cell_type": "code",
   "execution_count": null,
   "metadata": {},
   "outputs": [],
   "source": [
    "# Compute image mse\n",
    "def image_mse(imageA, imageB):\n",
    "    # sum of the squared difference between the two images;\n",
    "    err = np.sum((imageA.astype(\"float\") - imageB.astype(\"float\")) ** 2)\n",
    "    err /= float(imageA.shape[0] * imageA.shape[1])\n",
    "    return err"
   ]
  },
  {
   "cell_type": "code",
   "execution_count": null,
   "metadata": {},
   "outputs": [],
   "source": [
    "mse = image_mse(y_train0,x_test_encoded)\n",
    "ssim = measure.compare_ssim(y_train0,x_test_encoded)\n",
    "print(\"Mean square error : \",mse)\n",
    "print(\"Structural similarity index : \",ssim)"
   ]
  }
 ],
 "metadata": {
  "kernelspec": {
   "display_name": "(base_conda",
   "language": "python",
   "name": "base"
  },
  "language_info": {
   "codemirror_mode": {
    "name": "ipython",
    "version": 3
   },
   "file_extension": ".py",
   "mimetype": "text/x-python",
   "name": "python",
   "nbconvert_exporter": "python",
   "pygments_lexer": "ipython3",
   "version": "3.7.3"
  }
 },
 "nbformat": 4,
 "nbformat_minor": 2
}
